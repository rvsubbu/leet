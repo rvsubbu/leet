{
 "cells": [
  {
   "cell_type": "markdown",
   "metadata": {},
   "source": [
    "### Table of Contents\n",
    "* Number of ways to climb a flight of n steps, taking 1, 2 or 3 steps at a time"
   ]
  },
  {
   "cell_type": "markdown",
   "metadata": {},
   "source": [
    "Write a function to compute the number of ways to climb a flight of n steps. Taking 1, 2, or 3 steps at a time. Do it in Linear time and constant space.\n",
    "\n",
    "Example: n = 3\n",
    "4 ways to do this: 1+1+1, 1+2, 2+1, 3\n",
    "\n",
    "1+3,2+2,3+1, 1+1+2,1+2+1,2+1+1,1+1+1+1\n",
    "Insight: This is just a recurrence relation\n",
    "* F(1) = 1\n",
    "* F(2) = 2 (1+1 OR 2)\n",
    "* F(3) = 4 (1+1+1, 1+2, 2+1, 3)\n",
    "* F(n) = F(n-1)+ F(n-2) + F(n-3)"
   ]
  },
  {
   "cell_type": "code",
   "execution_count": 1,
   "metadata": {},
   "outputs": [],
   "source": [
    "def test_harness(fn, inp, outp):\n",
    "    from collections.abc import Iterable\n",
    "\n",
    "    result = fn(*inp)\n",
    "    if not isinstance(result, Iterable):\n",
    "        result = [result]\n",
    "    for i, o in enumerate(outp):\n",
    "        assert result[i] == outp[i]"
   ]
  },
  {
   "cell_type": "code",
   "execution_count": 2,
   "metadata": {},
   "outputs": [
    {
     "name": "stdout",
     "output_type": "stream",
     "text": [
      "All tests passed\n"
     ]
    }
   ],
   "source": [
    "def count_ways(n):\n",
    "    if n < 1:\n",
    "        return 0\n",
    "    if n == 1:\n",
    "        return 1\n",
    "    if n == 2:\n",
    "        return 2\n",
    "    if n == 3:\n",
    "        return 4\n",
    "    return count_ways(n-3) + count_ways(n-2) + count_ways(n-1)\n",
    "\n",
    "def test_count_ways():\n",
    "    tests = [\n",
    "             ([0], [0]),\n",
    "             ([1], [1]),\n",
    "             ([2], [2]),\n",
    "             ([3], [4]),\n",
    "             ([4], [7]),\n",
    "            ]\n",
    "    for inp, outp in tests:\n",
    "        test_harness(count_ways, inp, outp)\n",
    "\n",
    "    print(\"All tests passed\")\n",
    "    \n",
    "if __name__ == '__main__':\n",
    "    test_count_ways()"
   ]
  },
  {
   "cell_type": "code",
   "execution_count": null,
   "metadata": {},
   "outputs": [],
   "source": []
  }
 ],
 "metadata": {
  "kernelspec": {
   "display_name": "Python 3",
   "language": "python",
   "name": "python3"
  },
  "language_info": {
   "codemirror_mode": {
    "name": "ipython",
    "version": 3
   },
   "file_extension": ".py",
   "mimetype": "text/x-python",
   "name": "python",
   "nbconvert_exporter": "python",
   "pygments_lexer": "ipython3",
   "version": "3.7.4"
  }
 },
 "nbformat": 4,
 "nbformat_minor": 2
}
