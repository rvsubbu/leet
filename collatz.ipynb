{
 "cells": [
  {
   "cell_type": "markdown",
   "metadata": {},
   "source": [
    "Collatz Conjecture: If a number is odd, find 3n+1; else n/2. This will always lead to 1\n",
    "\n",
    "Odd numbers increase by 3x; even decrease by 2x. But the result from an even number can be an even. Looks like we hit a power of 2 sometime or other that compensates for all the increases by 3x. e.g. 11 goes to 34 and 17 successively; but 17 goes to 52->13, 13->40->5 - we hit 40, that is divisible by 8."
   ]
  },
  {
   "cell_type": "code",
   "execution_count": 2,
   "metadata": {},
   "outputs": [
    {
     "name": "stdout",
     "output_type": "stream",
     "text": [
      "Tested the first 1000000 numbers\n"
     ]
    }
   ],
   "source": [
    "def collatz_seq(n):\n",
    "    orig = n\n",
    "    while n > orig:\n",
    "        n = 3*n+1 if n%2 else n//2\n",
    "        \n",
    "def collatz_driver():\n",
    "    high = 1000000\n",
    "    # Just test the odd numbers\n",
    "    for i in range(3, high, 2):\n",
    "        collatz_seq(i)\n",
    "    print(\"Tested the first {} numbers\".format(high))\n",
    "\n",
    "if __name__ == '__main__':\n",
    "    collatz_driver()"
   ]
  },
  {
   "cell_type": "code",
   "execution_count": null,
   "metadata": {},
   "outputs": [],
   "source": []
  }
 ],
 "metadata": {
  "kernelspec": {
   "display_name": "Python 3",
   "language": "python",
   "name": "python3"
  },
  "language_info": {
   "codemirror_mode": {
    "name": "ipython",
    "version": 3
   },
   "file_extension": ".py",
   "mimetype": "text/x-python",
   "name": "python",
   "nbconvert_exporter": "python",
   "pygments_lexer": "ipython3",
   "version": "3.7.4"
  }
 },
 "nbformat": 4,
 "nbformat_minor": 2
}
